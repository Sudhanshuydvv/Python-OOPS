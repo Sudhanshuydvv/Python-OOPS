{
  "nbformat": 4,
  "nbformat_minor": 0,
  "metadata": {
    "colab": {
      "provenance": []
    },
    "kernelspec": {
      "name": "python3",
      "display_name": "Python 3"
    },
    "language_info": {
      "name": "python"
    }
  },
  "cells": [
    {
      "cell_type": "markdown",
      "source": [
        "#Theoretical Questions:\n"
      ],
      "metadata": {
        "id": "Quti5qBVvLLV"
      }
    },
    {
      "cell_type": "markdown",
      "source": [
        "#1. What is Object-Oriented Programming (OOP)?\n",
        " - Objects-Oriented Programming (OOP) in Python is a programming paradigm that focuses on organizing and structuring code using objects."
      ],
      "metadata": {
        "id": "OmpOBHF9vQ7z"
      }
    },
    {
      "cell_type": "markdown",
      "source": [
        "#2.  What is a class in OOP?\n",
        " - In Object-Oriented Programming (OOP), a ***class*** is a blueprint or template for creating objects. it defines the structure and behaviour(attributes and methods) that the objects created from it will have."
      ],
      "metadata": {
        "id": "-GNZEQ-3wxNT"
      }
    },
    {
      "cell_type": "markdown",
      "source": [
        "#3. What is an object in OOP?\n",
        " - In Objet-Oriented Programming(OOP), an object is an instance of a class.while a class acts as a blueprint, an object is the real world representation of that blueprint.it has its own state(attributes) and behaviour(methods), allowing interaction with other objects and performing tasks in a program."
      ],
      "metadata": {
        "id": "yXrujQcIvw2O"
      }
    },
    {
      "cell_type": "markdown",
      "source": [
        "#4. What is the difference between abstraction and encapsulation?\n",
        " - In Object-Oriented Programming(OOP), abstraction and encapsulation are two different key concepts,but they serve different purposes:                                            \n",
        "\n",
        " 1. Abstraction:\n",
        "  - Abstraction is the process of hiding the implementation details of a system and showing only the essential features to the user.                               \n",
        "  - It focuses on what system does,without worrying about how it does it.\n",
        "\n",
        " 2. Encapsulation:\n",
        "  - Encapsulation is the practice of bundling data(attributes) and methods(functions)into a single unit.\n",
        "   - It focuses on how to protect the internal state of an object by making variables private and providing controlled access through getter and setter methods."
      ],
      "metadata": {
        "id": "Cs31Ih10zMUO"
      }
    },
    {
      "cell_type": "markdown",
      "source": [
        "#5. What are dunder methods in Python?\n",
        " - Dunder methods,short for \"double underscore methods\", are special methods in Python that are enclosed within double underscores(eg.,`__init__` , `__str__`).They are also known as ***magic methods*** because they provide special functionality to classes and objects,allowing you to define custom behaviours for built-in operations."
      ],
      "metadata": {
        "id": "1ZlLjTIq2yMS"
      }
    },
    {
      "cell_type": "markdown",
      "source": [
        "#6.  Explain the concept of inheritance in OOP?\n",
        " - In Object-Oriented Programming(OOP), Inheritance is a mechanism that allows one class(called the child class or subclass) to acquire the properties and behaviours of another class(called the parent class or superclass). It promotes code reuse, as common functionality can be defined in the parent class and shared with its child classes."
      ],
      "metadata": {
        "id": "345Rc6oG36mr"
      }
    },
    {
      "cell_type": "markdown",
      "source": [
        "#7.  What is polymorphism in OOP?\n",
        " - Polymorphism is a concept that allows objects of different classses to be treated as objects of a common superclass. In simpler terms, it means \"many forms\"-the same method or operation can perform differently based on the object calling it."
      ],
      "metadata": {
        "id": "oaiqfdqy5A-Z"
      }
    },
    {
      "cell_type": "markdown",
      "source": [
        "#8.  How is encapsulation achieved in Python?\n",
        " - Encapsulation is achieved by bundling data and methods within a single unit.\n",
        "  - Levels of Access im Encapsulation:\n",
        "   1. Public Access(`public`):\n",
        "    - Attributes or methods are accessible from anywhere.\n",
        "    - No special syntax is required;by default, all members are public.\n",
        "\n",
        "   2. Protected Access(`_protected`):\n",
        "    - Attributes or methods can be accessed by the class and its subclasses(not enforced, but a convention).\n",
        "    - indicated by a single undescore `_`.\n",
        "\n",
        "   3. Priavte Access(`__private`):\n",
        "    - Attributes or methods are not directly accessible outside the class.\n",
        "    - Indicated by a double underscore `__`.    "
      ],
      "metadata": {
        "id": "M6bdEuQ26MiE"
      }
    },
    {
      "cell_type": "markdown",
      "source": [
        "#9.  What is a constructor in Python?\n",
        " - A **constructor** is a special method used to initialize the attributes of a class when an object is created. It ensures that the object starts with a defined state. The constructor method in Python is called `__init__`, and it is automatically invoked when a new object of the class is instantiated."
      ],
      "metadata": {
        "id": "JvPa2lreUUow"
      }
    },
    {
      "cell_type": "markdown",
      "source": [
        "#10. What are class and static methods in Python?\n",
        " - In Python, **class methods** and **static methods** are two types of methods that are used in classes to provide additional functionality.\n",
        "\n",
        " 1. **Class Methods** :\n",
        "  - A class method is a method that operates on the class itself, rather than on an instance of the class. It has access to the class and can modify class-level attributes.\n",
        "  - Defined using the `@classmethod` decorator.\n",
        "  - The first parameter is `cls`, which refers to the class itself.\n",
        "\n",
        " 2. **Static Methods** :\n",
        "  - A static method is a method that does not depend on class or instance attributes. It belongs to the class and is used for utility or helper functions.\n",
        "  - Dedined using the `@staticmethod` decorator.\n",
        "  - It does not take `self` or `cls` as its first parameter because it doesn't operate on the instance or the class."
      ],
      "metadata": {
        "id": "MOcFBz0WVY5W"
      }
    },
    {
      "cell_type": "markdown",
      "source": [
        "#11.  What is method overloading in Python?\n",
        " - **Method overloading** refers to defining multiple methods with the same name but with different numbers or types of parameters. However, unlike some other programming language (like java), Python does not support method overloading natively.Instead, Python uses its dynamic and flexible nature to stimulate method overloading."
      ],
      "metadata": {
        "id": "nLUp-87pX-Eu"
      }
    },
    {
      "cell_type": "markdown",
      "source": [
        "#12. What is method overriding in OOP?\n",
        " - **Method Overriding** occurs when a subclass (child class) provides a specific implementation for a method that is already defined in its parent class (subclass). The method is the subclass has the same name,signature(parameters), and return type as the method in the parent class. This allows the subclass to customize or completely change the behaviour of the parent class'method."
      ],
      "metadata": {
        "id": "jo-fS654ZEZZ"
      }
    },
    {
      "cell_type": "markdown",
      "source": [
        "#13. What is a property decorator in Python?\n",
        " - A property decorator in Python is a built-in feature that allows you to define a method in a class and use it like an attribute. It provides a way to encapsulation instance variables, enabling controlled access to them without directly exposing the variables. This is commonly used for implementing **getter**, **setter**, and **deleter** methods in a concise and readable manner."
      ],
      "metadata": {
        "id": "g6mK1ErRaIps"
      }
    },
    {
      "cell_type": "markdown",
      "source": [
        "#14.  Why is polymorphism important in OOP?\n",
        " - Polymorphism is a cornerstone concept in Object-Oriented Programming(OOP) because it enhances the flexibility and scalability of code by enabling objects of different classes to be treated as objects as a common superclass.                    \n",
        " Here's why it's important:                                 \n",
        "   -  Code Reusability\n",
        "   - Extensibility\n",
        "   - Dynamic Method Resolution\n",
        "   - Improved Maintainability"
      ],
      "metadata": {
        "id": "j-ldbfegf_Bi"
      }
    },
    {
      "cell_type": "markdown",
      "source": [
        "#15. What is an abstract class in Python?\n",
        " - An abstract class is a blueprint for other classes, meaning it cannot be instantiated directly but serve as a foundation for subclasses. Abstract classes are useful when you want to define a common interface or structure for a group of related classes while leaving the implementation details to the subclasses.\n",
        "\n",
        " - Python provides the `abc`(Abstract Base Classes) module to create abstract classes."
      ],
      "metadata": {
        "id": "umKP7Q6yhXyB"
      }
    },
    {
      "cell_type": "markdown",
      "source": [
        "#16.  What are the advantages of OOP?\n",
        " - Object-Oriented Programming(OOP) offers several advantages that make it a popular paradigm for building robust, scalable, and maintainable software systems. Here are the key benefits :  \n",
        "   - Modularity\n",
        "   - Code Reusability\n",
        "   - Scalability\n",
        "   - Encapsulation\n",
        "   - Abstraction\n",
        "   - Polymorphism\n",
        "   - Improved Maintainability\n",
        "   - Real-World Modeling"
      ],
      "metadata": {
        "id": "Jxoh9mlQiaU7"
      }
    },
    {
      "cell_type": "markdown",
      "source": [
        "#17.  What is the difference between a class variable and an instance variable?\n",
        " - Difference between class variables and an instance variable :  \n",
        "\n",
        "**Class Variables** :                               \n",
        "   - It shared among all instances of a class. The value is the same for every instance unless explicitly modified at the class level.\n",
        "   - It defined within the class body but outside any methods, typically at the top.\n",
        "   - It is used when you want all instances to share a common value.\n",
        "   - It is accessible using the class name or any instance of the class.\n",
        "\n",
        "**Instance Variables** :                          \n",
        "  - It is unique to each instance of the class.Every object has its own copy of these variables.\n",
        "  - It defined inside methods, usually in the `__init__` method, using `self`.\n",
        "  - It is accessible only through the instance(object) it belongs to.\n",
        "  -It is used to store data specific to each object.\n"
      ],
      "metadata": {
        "id": "gxPyZaVdjeQm"
      }
    },
    {
      "cell_type": "markdown",
      "source": [
        "#18. What is multiple inheritance in Python?\n",
        " - Multiple inheritance in Python is a feature where a class can inherit from more than one parent class. This means the derived class(child class) gains the attributes and behaviours(methods) of all its parent classes. Multiple  inheritance allows the combination of features from different classes into a single classes."
      ],
      "metadata": {
        "id": "Y7qb0PKU5Eoj"
      }
    },
    {
      "cell_type": "markdown",
      "source": [
        "#19. Explain the purpose of ‘’__str__’ and ‘__repr__’ ‘ methods in Python.\n",
        " - The `__str__` and `__repr__` methods in Python are **dunder methods**(short for double underscore) that serve different purposes in representing objects as strings. Here's what they do:\n",
        "  \n",
        "`__str__` **Method**: **String Representation**               \n",
        "  - It provides a human-readable or \"pretty\" string representation of an object, primarily used when printing aan object.\n",
        "  - It invoked by the `str()` function or when using the `print()` function on the object.\n",
        "  - It make the output readable and user-friendly.\n",
        "\n",
        "`__repr__` **Method**: **Official Represenation**\n",
        "  - It provides an **official** or developer-oriented string representation of an object, meant to be unambigous.\n",
        "  - It invoked when `repr()` is called or when inspecting an object in an interpreter.\n",
        "  - Ideal for debugging, as it often outputs detailed information about the object."
      ],
      "metadata": {
        "id": "3_ubJMzA51--"
      }
    },
    {
      "cell_type": "markdown",
      "source": [
        "#20. What is the significance of the ‘super()’ function in Python?\n",
        " - Significance of the 'super()' function in Python:              \n",
        "  1. **Call Parent Class Method**:\n",
        "     - It allows a child class to invoke methods of its parent class, which is especially helpful when the parent class has an implementation that you want to reuse.\n",
        "\n",
        "  2. **Supports Multiple Inheritance**:                       \n",
        "     - In Python, when a class inherits from multiple parent classes, `super()` ensures that the methods are resolved in a consistant order defined by the **Method Resolution Order(MRO)**.\n",
        "\n",
        "   3. **Avoid Hard-Coding Parent Class Name**:                    \n",
        "     - By using `super()`, you don’t need to explicitly specify the parent class name. This makes the code cleaner and reduces the chance of errors in more complex hierarchies.     \n",
        "\n",
        "   4. **Improves Maintainability and Scalability**:         \n",
        "      - It simplifies code changes since the parent class name doesn’t need to be repeatedly updated when inheritance chains are modified."
      ],
      "metadata": {
        "id": "1bdDX8K2Cvax"
      }
    },
    {
      "cell_type": "markdown",
      "source": [
        "#21. What is the significance of the __del__ method in Python?\n",
        " - The `__del__` method in Python is a special or \"dunder\" method, also known as a destructor. It is called when an object is about to be destroyed or garbage collected.                \n",
        " - Significance of the `__del__` method in Python:                \n",
        "1. Resource Cleanup: It helps release external resources like file handles, network connections, or database connections when they are not longer needed.\n",
        "2. Memory Management: Ensures proper cleanup of memory by performing actions before the object is removed from memory.\n",
        "3. Custom Destruction Logic: You can define specific behaviours or tasks that should occur when an object is about to be destroyed."
      ],
      "metadata": {
        "id": "hcfWzpJJFMUq"
      }
    },
    {
      "cell_type": "markdown",
      "source": [
        "#22. What is the difference between @staticmethod and @classmethod in Python?\n",
        " - Difference between **@staticmethod** and **@classmethod** in Python:                                                  \n",
        " 1. **@staticmethod**:\n",
        "     - It does not have access to `self`(instance) or `cls`(class).\n",
        "     - A static method behaves like a regular function but belongs to the class's namespace.\n",
        "     - It used when the method doesn't need to interact with the class or its instances.\n",
        "     - It is not bound to the instance or the class.\n",
        "\n",
        " 2. **@classmethod**:\n",
        "     - It has access to `cls`(the class itself), not `self`.\n",
        "     - A class method receives the class itself(`cls`) as its first argument.\n",
        "     - It used when the method needs to work with class-level data or create instances.\n",
        "     - Bound to the class, not the instances.    "
      ],
      "metadata": {
        "id": "6Pij5-KEP8yd"
      }
    },
    {
      "cell_type": "markdown",
      "source": [
        "#23. How does polymorphism work in Python with inheritance?\n",
        " - Polymorphism in Python, especially with inheritance, allows objects of different classes to be treated as objects of a common superclass. This is achieved by overriding methods in derived classes while maintaining a consistent interface. Essentially, polymorphism enables one interface to represent different underlying forms (data types).                  \n",
        "- Key Concepts of Polymorphism with Inheritance:           \n",
        " 1. Method Overriding\n",
        " 2.Common Interface\n"
      ],
      "metadata": {
        "id": "pcm3JAS9SV3f"
      }
    },
    {
      "cell_type": "markdown",
      "source": [
        "#24. What is method chaining in Python OOP?\n",
        " - Method chaining in Python Object-Oriented Programming (OOP) is a technique where multiple methods are called on the same object in a single statement, allowing for a clean and compact flow of operations. This is achieved by designing methods to return the instance itself (`self`) after performing their tasks, so the next method can be called immediately."
      ],
      "metadata": {
        "id": "uk90tlkRS4-0"
      }
    },
    {
      "cell_type": "markdown",
      "source": [
        "#25. What is the purpose of the __call__ method in Python?\n",
        " - The `__call__` method in Python is a special (or \"dunder\") method that allows an instance of a class to be called as if it were a function. It essentially makes objects of a class callable, enabling you to use parentheses `()` after an instance name to trigger the execution of the `__call__` method.        \n",
        " - Purpose of `__call__`:                            \n",
        " 1. Syntactic Sugar\n",
        " 2. Custom Callable Objects\n",
        " 3. Flexible Functionality"
      ],
      "metadata": {
        "id": "1rYwnOa-TGsF"
      }
    },
    {
      "cell_type": "markdown",
      "source": [
        "#Practical Questions"
      ],
      "metadata": {
        "id": "g_IAXBpXTnp5"
      }
    },
    {
      "cell_type": "markdown",
      "source": [
        "#1. Create a parent class Animal with a method speak() that prints a generic message. Create a child class Dog that overrides the speak() method to print \"Bark!\"."
      ],
      "metadata": {
        "id": "D8TcoRHp_uxX"
      }
    },
    {
      "cell_type": "code",
      "source": [
        "class Animal:\n",
        "    def speak(self):\n",
        "        print(\"This is a generic animal sound.\")\n",
        "\n",
        "class Dog(Animal):\n",
        "    def speak(self):\n",
        "        print(\"Bark!\")\n",
        "\n",
        "generic_animal = Animal()\n",
        "generic_animal.speak()\n",
        "\n",
        "dog = Dog()\n",
        "dog.speak()\n"
      ],
      "metadata": {
        "colab": {
          "base_uri": "https://localhost:8080/"
        },
        "id": "AZDJhFfS_KGb",
        "outputId": "f17cb697-b136-49a5-e41c-39b47626a1d2"
      },
      "execution_count": null,
      "outputs": [
        {
          "output_type": "stream",
          "name": "stdout",
          "text": [
            "This is a generic animal sound.\n",
            "Bark!\n"
          ]
        }
      ]
    },
    {
      "cell_type": "markdown",
      "source": [
        "#2. Write a program to create an abstract class Shape with a method area(). Derive classes Circle and Rectangle from it and implement the area() method in both."
      ],
      "metadata": {
        "id": "EmJ7fKLf_0aK"
      }
    },
    {
      "cell_type": "code",
      "source": [
        "from abc import ABC, abstractmethod\n",
        "class Shape(ABC):\n",
        "    @abstractmethod\n",
        "    def area(self):\n",
        "        pass\n",
        "\n",
        "class Circle(Shape):\n",
        "    def __init__(self, radius):\n",
        "        self.radius = radius\n",
        "\n",
        "    def area(self):\n",
        "        return 3.14 * self.radius ** 2\n",
        "\n",
        "class Rectangle(Shape):\n",
        "    def __init__(self, width, height):\n",
        "        self.width = width\n",
        "        self.height = height\n",
        "\n",
        "    def area(self):\n",
        "        return self.width * self.height\n",
        "\n",
        "circle = Circle(5)\n",
        "rectangle = Rectangle(4, 6)\n",
        "print(\"Area of Circle:\", circle.area())  # Outputs: 78.5\n",
        "print(\"Area of Rectangle:\", rectangle.area())  # Outputs: 24\n"
      ],
      "metadata": {
        "colab": {
          "base_uri": "https://localhost:8080/"
        },
        "id": "4FF5zrGe_6BQ",
        "outputId": "b3bcca66-a824-4bbd-f428-867d29b6649e"
      },
      "execution_count": null,
      "outputs": [
        {
          "output_type": "stream",
          "name": "stdout",
          "text": [
            "Area of Circle: 78.5\n",
            "Area of Rectangle: 24\n"
          ]
        }
      ]
    },
    {
      "cell_type": "markdown",
      "source": [
        "#3.Implement a multi-level inheritance scenario where a class Vehicle has an attribute type. Derive a class Car and further derive a class ElectricCar that adds a battery attribute."
      ],
      "metadata": {
        "id": "yALKJ7MGAMXK"
      }
    },
    {
      "cell_type": "code",
      "source": [
        "class Vehicle:\n",
        "    def __init__(self, vehicle_type):\n",
        "        self.vehicle_type = vehicle_type\n",
        "\n",
        "    def display_type(self):\n",
        "        print(f\"This is a {self.vehicle_type}.\")\n",
        "\n",
        "class Car(Vehicle):\n",
        "    def __init__(self, vehicle_type, brand):\n",
        "        super().__init__(vehicle_type)\n",
        "        self.brand = brand\n",
        "\n",
        "    def display_brand(self):\n",
        "        print(f\"This car is a {self.brand}.\")\n",
        "\n",
        "class ElectricCar(Car):\n",
        "    def __init__(self, vehicle_type, brand, battery_capacity):\n",
        "        super().__init__(vehicle_type, brand)\n",
        "        self.battery_capacity = battery_capacity\n",
        "\n",
        "    def display_battery(self):\n",
        "        print(f\"This electric car has a battery capacity of {self.battery_capacity} kWh.\")\n",
        "tesla = ElectricCar(\"Electric Vehicle\", \"Tesla\", 75)\n",
        "\n",
        "tesla.display_type()\n",
        "tesla.display_brand()\n",
        "tesla.display_battery()"
      ],
      "metadata": {
        "colab": {
          "base_uri": "https://localhost:8080/"
        },
        "id": "Wt4lkdkrAT9w",
        "outputId": "dc1ee170-8e38-4700-8fe7-636d343049b7"
      },
      "execution_count": null,
      "outputs": [
        {
          "output_type": "stream",
          "name": "stdout",
          "text": [
            "This is a Electric Vehicle.\n",
            "This car is a Tesla.\n",
            "This electric car has a battery capacity of 75 kWh.\n"
          ]
        }
      ]
    },
    {
      "cell_type": "markdown",
      "source": [
        "#4. Demonstrate polymorphism by creating a base class Bird with a method fly(). Create two derived classes Sparrow and Penguin that override the fly() method."
      ],
      "metadata": {
        "id": "OozgTi5EAyu7"
      }
    },
    {
      "cell_type": "code",
      "source": [
        "class Bird:\n",
        "    def fly(self):\n",
        "        print(\"Birds can generally fly.\")\n",
        "\n",
        "class Sparrow(Bird):\n",
        "    def fly(self):\n",
        "        print(\"Sparrows are small birds that can fly short distances.\")\n",
        "\n",
        "class Penguin(Bird):\n",
        "    def fly(self):\n",
        "        print(\"Penguins cannot fly, but they are excellent swimmers.\")\n",
        "\n",
        "def demonstrate_flying(bird):\n",
        "    bird.fly()\n",
        "\n",
        "sparrow = Sparrow()\n",
        "penguin = Penguin()\n",
        "\n",
        "demonstrate_flying(sparrow)\n",
        "demonstrate_flying(penguin)\n"
      ],
      "metadata": {
        "colab": {
          "base_uri": "https://localhost:8080/"
        },
        "id": "P481SEPzA5Y4",
        "outputId": "3a8bbbbd-bdde-4dc9-eff9-f675165fb0a6"
      },
      "execution_count": null,
      "outputs": [
        {
          "output_type": "stream",
          "name": "stdout",
          "text": [
            "Sparrows are small birds that can fly short distances.\n",
            "Penguins cannot fly, but they are excellent swimmers.\n"
          ]
        }
      ]
    },
    {
      "cell_type": "markdown",
      "source": [
        "#5. Write a program to demonstrate encapsulation by creating a class BankAccount with private attributes balance and methods to deposit, withdraw, and check balance."
      ],
      "metadata": {
        "id": "2RFAmKQzBMQo"
      }
    },
    {
      "cell_type": "code",
      "source": [
        "class BankAccount:\n",
        "    def __init__(self, initial_balance=0):\n",
        "\n",
        "        self.__balance = initial_balance\n",
        "\n",
        "    def deposit(self, amount):\n",
        "        if amount > 0:\n",
        "            self.__balance += amount\n",
        "            print(f\"Deposited: {amount}\")\n",
        "        else:\n",
        "            print(\"Deposit amount must be positive.\")\n",
        "\n",
        "    def withdraw(self, amount):\n",
        "        if 0 < amount <= self.__balance:\n",
        "            self.__balance -= amount\n",
        "            print(f\"Withdrew: {amount}\")\n",
        "        elif amount <= 0:\n",
        "            print(\"Withdrawal amount must be positive.\")\n",
        "        else:\n",
        "            print(\"Insufficient balance.\")\n",
        "\n",
        "    def check_balance(self):\n",
        "        print(f\"Current Balance: {self.__balance}\")\n",
        "\n",
        "account = BankAccount(500)\n",
        "account.deposit(200)\n",
        "account.withdraw(100)\n",
        "account.check_balance()"
      ],
      "metadata": {
        "colab": {
          "base_uri": "https://localhost:8080/"
        },
        "id": "s1nQsJuHDXM_",
        "outputId": "7b77daa4-04b5-4918-cea8-1f4fd3fdcf77"
      },
      "execution_count": null,
      "outputs": [
        {
          "output_type": "stream",
          "name": "stdout",
          "text": [
            "Deposited: 200\n",
            "Withdrew: 100\n",
            "Current Balance: 600\n"
          ]
        }
      ]
    },
    {
      "cell_type": "markdown",
      "source": [
        "#6.Demonstrate runtime polymorphism using a method play() in a base class Instrument. Derive classes Guitar and Piano that implement their own version of play()"
      ],
      "metadata": {
        "id": "SRcscnwODtli"
      }
    },
    {
      "cell_type": "code",
      "source": [
        "class Instrument:\n",
        "    def play(self):\n",
        "        print(\"Playing an instrument.\")\n",
        "\n",
        "class Guitar(Instrument):\n",
        "    def play(self):\n",
        "        print(\"Strumming the guitar strings melodiously.\")\n",
        "\n",
        "class Piano(Instrument):\n",
        "    def play(self):\n",
        "        print(\"Playing the piano keys with harmony.\")\n",
        "\n",
        "def perform(instrument):\n",
        "    instrument.play()\n",
        "\n",
        "guitar = Guitar()\n",
        "piano = Piano()\n",
        "\n",
        "perform(guitar)\n",
        "perform(piano)"
      ],
      "metadata": {
        "colab": {
          "base_uri": "https://localhost:8080/"
        },
        "id": "sKHpfy_eD0CR",
        "outputId": "2812d6e0-5cb3-4414-bec6-375bca8372db"
      },
      "execution_count": null,
      "outputs": [
        {
          "output_type": "stream",
          "name": "stdout",
          "text": [
            "Strumming the guitar strings melodiously.\n",
            "Playing the piano keys with harmony.\n"
          ]
        }
      ]
    },
    {
      "cell_type": "markdown",
      "source": [
        "#7. Create a class MathOperations with a class method add_numbers() to add two numbers and a static method subtract_numbers() to subtract two numbers."
      ],
      "metadata": {
        "id": "9ASGzTRCEBo1"
      }
    },
    {
      "cell_type": "code",
      "source": [
        "class MathOperations:\n",
        "    @classmethod\n",
        "    def add_numbers(cls, num1, num2):\n",
        "        return num1 + num2\n",
        "\n",
        "    @staticmethod\n",
        "    def subtract_numbers(num1, num2):\n",
        "        return num1 - num2\n",
        "\n",
        "result_addition = MathOperations.add_numbers(10, 5)\n",
        "print(\"Addition Result:\", result_addition)\n",
        "\n",
        "result_subtraction = MathOperations.subtract_numbers(10, 5)\n",
        "print(\"Subtraction Result:\", result_subtraction)\n"
      ],
      "metadata": {
        "id": "tNt2ztEiEKYL",
        "colab": {
          "base_uri": "https://localhost:8080/"
        },
        "outputId": "5b73d67a-1458-439a-a158-8fc08d44e239"
      },
      "execution_count": 1,
      "outputs": [
        {
          "output_type": "stream",
          "name": "stdout",
          "text": [
            "Addition Result: 15\n",
            "Subtraction Result: 5\n"
          ]
        }
      ]
    },
    {
      "cell_type": "markdown",
      "source": [
        "#8. Implement a class Person with a class method to count the total number of persons created."
      ],
      "metadata": {
        "id": "36gzBq9xYYOg"
      }
    },
    {
      "cell_type": "code",
      "source": [
        "class Person:\n",
        "    total_persons = 0\n",
        "\n",
        "    def __init__(self, name):\n",
        "        self.name = name\n",
        "        Person.total_persons += 1\n",
        "\n",
        "    @classmethod\n",
        "    def count_persons(cls):\n",
        "        return cls.total_persons\n",
        "\n",
        "person1 = Person(\"Alice\")\n",
        "person2 = Person(\"Bob\")\n",
        "person3 = Person(\"Charlie\")\n",
        "\n",
        "print(\"Total number of persons created:\", Person.count_persons())\n"
      ],
      "metadata": {
        "colab": {
          "base_uri": "https://localhost:8080/"
        },
        "id": "XHa2e-y8YfY2",
        "outputId": "38101f90-8515-4466-9501-7b5f18d0e110"
      },
      "execution_count": 2,
      "outputs": [
        {
          "output_type": "stream",
          "name": "stdout",
          "text": [
            "Total number of persons created: 3\n"
          ]
        }
      ]
    },
    {
      "cell_type": "markdown",
      "source": [
        "#9. Write a class Fraction with attributes numerator and denominator. Override the str method to display the fraction as \"numerator/denominator\"."
      ],
      "metadata": {
        "id": "-HMwa25OY0ku"
      }
    },
    {
      "cell_type": "code",
      "source": [
        "class Fraction:\n",
        "    def __init__(self, numerator, denominator):\n",
        "        self.numerator = numerator\n",
        "        self.denominator = denominator\n",
        "\n",
        "    def __str__(self):\n",
        "        return f\"{self.numerator}/{self.denominator}\"\n",
        "\n",
        "fraction1 = Fraction(3, 4)\n",
        "print(fraction1)\n",
        "\n",
        "fraction2 = Fraction(5, 8)\n",
        "print(fraction2)"
      ],
      "metadata": {
        "colab": {
          "base_uri": "https://localhost:8080/"
        },
        "id": "rBkogqYmY88Q",
        "outputId": "b7ccc732-f6ad-427e-e5f5-204c50df25cc"
      },
      "execution_count": 3,
      "outputs": [
        {
          "output_type": "stream",
          "name": "stdout",
          "text": [
            "3/4\n",
            "5/8\n"
          ]
        }
      ]
    },
    {
      "cell_type": "markdown",
      "source": [
        "#10. Demonstrate operator overloading by creating a class Vector and overriding the add method to add two vectors."
      ],
      "metadata": {
        "id": "mp0agYX4ZH6z"
      }
    },
    {
      "cell_type": "code",
      "source": [
        "class Vector:\n",
        "    def __init__(self, x, y):\n",
        "        self.x = x\n",
        "        self.y = y\n",
        "\n",
        "    def __add__(self, other):\n",
        "        return Vector(self.x + other.x, self.y + other.y)\n",
        "\n",
        "    def __str__(self):\n",
        "        return f\"Vector({self.x}, {self.y})\"\n",
        "vector1 = Vector(2, 3)\n",
        "vector2 = Vector(4, 5)\n",
        "\n",
        "result = vector1 + vector2\n",
        "print(\"Result of addition:\", result)\n"
      ],
      "metadata": {
        "colab": {
          "base_uri": "https://localhost:8080/"
        },
        "id": "xXhdpuoyZCOB",
        "outputId": "009aad93-0162-41b5-9c55-5662cc49aa9c"
      },
      "execution_count": 4,
      "outputs": [
        {
          "output_type": "stream",
          "name": "stdout",
          "text": [
            "Result of addition: Vector(6, 8)\n"
          ]
        }
      ]
    },
    {
      "cell_type": "markdown",
      "source": [
        "#11. Create a class Person with attributes name and age. Add a method greet() that prints \"Hello, my name is {name} and I am {age} years old.\""
      ],
      "metadata": {
        "id": "FfCMNnzxZX4X"
      }
    },
    {
      "cell_type": "code",
      "source": [
        "class Person:\n",
        "    def __init__(self, name, age):\n",
        "        self.name = name\n",
        "        self.age = age\n",
        "\n",
        "    def greet(self):\n",
        "        print(f\"Hello, my name is {self.name} and I am {self.age} years old.\")\n",
        "\n",
        "person1 = Person(\"Alice\", 30)\n",
        "person1.greet()\n",
        "\n",
        "person2 = Person(\"Bob\", 25)\n",
        "person2.greet()\n"
      ],
      "metadata": {
        "colab": {
          "base_uri": "https://localhost:8080/"
        },
        "id": "vAJqI4WTZWwf",
        "outputId": "54b5a121-af24-4d45-8ca5-e80a5bff415f"
      },
      "execution_count": 5,
      "outputs": [
        {
          "output_type": "stream",
          "name": "stdout",
          "text": [
            "Hello, my name is Alice and I am 30 years old.\n",
            "Hello, my name is Bob and I am 25 years old.\n"
          ]
        }
      ]
    },
    {
      "cell_type": "markdown",
      "source": [
        "#12. Implement a class Student with attributes name and grades. Create a method average_grade() to compute the average of the grades."
      ],
      "metadata": {
        "id": "ggxWMOksZnmw"
      }
    },
    {
      "cell_type": "code",
      "source": [
        "class Student:\n",
        "    def __init__(self, name, grades):\n",
        "        self.name = name\n",
        "        self.grades = grades\n",
        "\n",
        "    def average_grade(self):\n",
        "        if self.grades:\n",
        "            return sum(self.grades) / len(self.grades)\n",
        "        else:\n",
        "            return 0\n",
        "\n",
        "student1 = Student(\"Alice\", [85, 90, 78])\n",
        "print(f\"{student1.name}'s average grade is: {student1.average_grade()}\")\n",
        "\n",
        "student2 = Student(\"Bob\", [])\n",
        "print(f\"{student2.name}'s average grade is: {student2.average_grade()}\")\n"
      ],
      "metadata": {
        "colab": {
          "base_uri": "https://localhost:8080/"
        },
        "id": "js_xuxq_Zi5H",
        "outputId": "29f7a6f6-f91e-4763-f9e4-03c2d3caf744"
      },
      "execution_count": 6,
      "outputs": [
        {
          "output_type": "stream",
          "name": "stdout",
          "text": [
            "Alice's average grade is: 84.33333333333333\n",
            "Bob's average grade is: 0\n"
          ]
        }
      ]
    },
    {
      "cell_type": "markdown",
      "source": [
        "#13. Create a class Rectangle with methods set_dimensions() to set the dimensions and area() to calculate the area."
      ],
      "metadata": {
        "id": "cpRxSFWkZ7EV"
      }
    },
    {
      "cell_type": "code",
      "source": [
        "class Rectangle:\n",
        "    def __init__(self):\n",
        "        self.length = 0\n",
        "        self.width = 0\n",
        "\n",
        "    def set_dimensions(self, length, width):\n",
        "        self.length = length\n",
        "        self.width = width\n",
        "\n",
        "    def area(self):\n",
        "        return self.length * self.width\n",
        "rectangle = Rectangle()\n",
        "rectangle.set_dimensions(10, 5)\n",
        "print(\"Area of the rectangle:\", rectangle.area())\n"
      ],
      "metadata": {
        "colab": {
          "base_uri": "https://localhost:8080/"
        },
        "id": "9a3XDZEUZ2EI",
        "outputId": "5333f8e8-d3c2-472d-ff4f-7c7e5adc50a4"
      },
      "execution_count": 7,
      "outputs": [
        {
          "output_type": "stream",
          "name": "stdout",
          "text": [
            "Area of the rectangle: 50\n"
          ]
        }
      ]
    },
    {
      "cell_type": "markdown",
      "source": [
        "#14.Create a class Employee with a method calculate_salary() that computes the salary based on hours worked and hourly rate. Create a derived class Manager that adds a bonus to the salary."
      ],
      "metadata": {
        "id": "uovo-GSIaJxs"
      }
    },
    {
      "cell_type": "code",
      "source": [
        "class Employee:\n",
        "    def __init__(self, name, hourly_rate):\n",
        "        self.name = name\n",
        "        self.hourly_rate = hourly_rate\n",
        "\n",
        "    def calculate_salary(self, hours_worked):\n",
        "        return self.hourly_rate * hours_worked\n",
        "\n",
        "class Manager(Employee):\n",
        "    def __init__(self, name, hourly_rate, bonus):\n",
        "        super().__init__(name, hourly_rate)\n",
        "        self.bonus = bonus\n",
        "\n",
        "    def calculate_salary(self, hours_worked):\n",
        "        base_salary = super().calculate_salary(hours_worked)\n",
        "        return base_salary + self.bonus\n",
        "\n",
        "employee = Employee(\"Alice\", 20)\n",
        "print(f\"{employee.name}'s Salary:\", employee.calculate_salary(40))\n",
        "\n",
        "manager = Manager(\"Bob\", 30, 500)\n",
        "print(f\"{manager.name}'s Salary:\", manager.calculate_salary(40))\n"
      ],
      "metadata": {
        "colab": {
          "base_uri": "https://localhost:8080/"
        },
        "id": "EcicfwEFaGj3",
        "outputId": "75d4c903-ff60-4a31-c8dc-341a7292fce7"
      },
      "execution_count": 8,
      "outputs": [
        {
          "output_type": "stream",
          "name": "stdout",
          "text": [
            "Alice's Salary: 800\n",
            "Bob's Salary: 1700\n"
          ]
        }
      ]
    },
    {
      "cell_type": "markdown",
      "source": [
        "#15. Create a class Product with attributes name, price, and quantity. Implement a method total_price() that calculates the total price of the product."
      ],
      "metadata": {
        "id": "HeZNNU5uac2r"
      }
    },
    {
      "cell_type": "code",
      "source": [
        "class Product:\n",
        "    def __init__(self, name, price, quantity):\n",
        "        self.name = name\n",
        "        self.price = price\n",
        "        self.quantity = quantity\n",
        "\n",
        "    def total_price(self):\n",
        "        return self.price * self.quantity\n",
        "\n",
        "product1 = Product(\"Laptop\", 50000, 2)\n",
        "print(f\"The total price for {product1.name} is: {product1.total_price()}\")\n",
        "\n",
        "product2 = Product(\"Phone\", 20000, 3)\n",
        "print(f\"The total price for {product2.name} is: {product2.total_price()}\")\n"
      ],
      "metadata": {
        "colab": {
          "base_uri": "https://localhost:8080/"
        },
        "id": "c3Bl2dmCaXoD",
        "outputId": "4d45358d-1cd1-47a8-e45a-14d2f83a9694"
      },
      "execution_count": 9,
      "outputs": [
        {
          "output_type": "stream",
          "name": "stdout",
          "text": [
            "The total price for Laptop is: 100000\n",
            "The total price for Phone is: 60000\n"
          ]
        }
      ]
    },
    {
      "cell_type": "markdown",
      "source": [
        "#16.Create a class Animal with an abstract method sound(). Create two derived classes Cow and Sheep that implement the sound() method."
      ],
      "metadata": {
        "id": "zTw41nfxar6R"
      }
    },
    {
      "cell_type": "code",
      "source": [
        "from abc import ABC, abstractmethod\n",
        "class Animal(ABC):\n",
        "    @abstractmethod\n",
        "    def sound(self):\n",
        "        pass\n",
        "\n",
        "class Cow(Animal):\n",
        "    def sound(self):\n",
        "        return \"Moo\"\n",
        "\n",
        "class Sheep(Animal):\n",
        "    def sound(self):\n",
        "        return \"Baa\"\n",
        "\n",
        "cow = Cow()\n",
        "print(\"Cow sound:\", cow.sound())\n",
        "\n",
        "sheep = Sheep()\n",
        "print(\"Sheep sound:\", sheep.sound())\n"
      ],
      "metadata": {
        "colab": {
          "base_uri": "https://localhost:8080/"
        },
        "id": "6wYQ56hkan-H",
        "outputId": "86460cf1-0ba0-403c-e5ab-fb55dd27033c"
      },
      "execution_count": 10,
      "outputs": [
        {
          "output_type": "stream",
          "name": "stdout",
          "text": [
            "Cow sound: Moo\n",
            "Sheep sound: Baa\n"
          ]
        }
      ]
    },
    {
      "cell_type": "markdown",
      "source": [
        "#17.Create a class Book with attributes title, author, and year_published. Add a method get_book_info() that returns a formatted string with the book's details."
      ],
      "metadata": {
        "id": "xxc4taXNa7zZ"
      }
    },
    {
      "cell_type": "code",
      "source": [
        "class Book:\n",
        "    def __init__(self, title, author, year_published):\n",
        "        self.title = title\n",
        "        self.author = author\n",
        "        self.year_published = year_published\n",
        "\n",
        "    def get_book_info(self):\n",
        "        return f\"'{self.title}' by {self.author}, published in {self.year_published}.\"\n",
        "\n",
        "book1 = Book(\"To Kill a Mockingbird\", \"Harper Lee\", 1960)\n",
        "print(book1.get_book_info())\n",
        "\n",
        "book2 = Book(\"1984\", \"George Orwell\", 1949)\n",
        "print(book2.get_book_info())\n"
      ],
      "metadata": {
        "colab": {
          "base_uri": "https://localhost:8080/"
        },
        "id": "ztXo7Hkza4yg",
        "outputId": "72a52b68-0493-46b4-8155-08c7a805c725"
      },
      "execution_count": 11,
      "outputs": [
        {
          "output_type": "stream",
          "name": "stdout",
          "text": [
            "'To Kill a Mockingbird' by Harper Lee, published in 1960.\n",
            "'1984' by George Orwell, published in 1949.\n"
          ]
        }
      ]
    },
    {
      "cell_type": "markdown",
      "source": [
        "#18. Create a class House with attributes address and price. Create a derived class Mansion that adds an attribute number_of_rooms."
      ],
      "metadata": {
        "id": "l5WoG1ZtbJNk"
      }
    },
    {
      "cell_type": "code",
      "source": [
        "class House:\n",
        "    def __init__(self, address, price):\n",
        "        self.address = address\n",
        "        self.price = price\n",
        "\n",
        "    def get_details(self):\n",
        "        return f\"Address: {self.address}, Price: {self.price}\"\n",
        "\n",
        "class Mansion(House):\n",
        "    def __init__(self, address, price, number_of_rooms):\n",
        "        super().__init__(address, price)\n",
        "        self.number_of_rooms = number_of_rooms\n",
        "\n",
        "    def get_details(self):\n",
        "        base_details = super().get_details()\n",
        "        return f\"{base_details}, Number of Rooms: {self.number_of_rooms}\"\n",
        "\n",
        "house = House(\"123 Main Street\", 500000)\n",
        "print(house.get_details())\n",
        "\n",
        "mansion = Mansion(\"456 Luxury Lane\", 2000000, 10)\n",
        "print(mansion.get_details())\n"
      ],
      "metadata": {
        "colab": {
          "base_uri": "https://localhost:8080/"
        },
        "id": "_r5ZesljbFga",
        "outputId": "bcffa398-d80b-44a7-f095-0181fdaded68"
      },
      "execution_count": 12,
      "outputs": [
        {
          "output_type": "stream",
          "name": "stdout",
          "text": [
            "Address: 123 Main Street, Price: 500000\n",
            "Address: 456 Luxury Lane, Price: 2000000, Number of Rooms: 10\n"
          ]
        }
      ]
    }
  ]
}